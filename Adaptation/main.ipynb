{
 "cells": [
  {
   "cell_type": "code",
   "execution_count": 1,
   "metadata": {},
   "outputs": [],
   "source": [
    "import pandas as pd\n",
    "import numpy as np\n",
    "import os\n",
    "import matplotlib.pyplot as plt\n",
    "import plotly.express as px\n",
    "import geopandas as gpd"
   ]
  },
  {
   "cell_type": "markdown",
   "metadata": {},
   "source": [
    "Biomass availibility info, including total sustainable biomass availability, already used biomass availability, and additional biomass availability"
   ]
  },
  {
   "cell_type": "code",
   "execution_count": 2,
   "metadata": {},
   "outputs": [],
   "source": [
    "# type(os.path.abspath('../Data/Biomass'))\n",
    "# /Volumes/GoogleDrive/My Drive/Thesis/Python_BiomassSupplyChain/Data/Biomass/Yearly_biomass_additional_sust_potential.xlsx\n",
    "# print(os.path.abspath('../Data/Biomass')+'/Yearly_biomass_sust_potential.xlsx')\n",
    "Sus_anual_biomass_ava = pd.read_excel(os.path.abspath('../Data/Biomass/')+'/Yearly_biomass_sust_potential.xlsx')\n",
    "Used_anual_biomass_ava = pd.read_excel(os.path.abspath('../Data/Biomass/')+'/Yearly_biomass_already_used_potential.xlsx')\n",
    "Add_anual_biomass_ava = pd.read_excel(os.path.abspath('../Data/Biomass/')+'/Yearly_biomass_additional_sust_potential.xlsx')"
   ]
  },
  {
   "cell_type": "markdown",
   "metadata": {},
   "source": [
    "Locations info, including cantons', incinerataors'. biogas', CHP's (Combined Heat and Power)"
   ]
  },
  {
   "cell_type": "code",
   "execution_count": 26,
   "metadata": {},
   "outputs": [],
   "source": [
    "Canton_info = pd.read_excel(os.path.abspath('../Data/Location/')+'/Cantons_location.xlsx')\n",
    "Inc_info = pd.read_excel(os.path.abspath('../Data/Location/')+'/Incineration_location.xlsx')\n",
    "Biogas_info = pd.read_excel(os.path.abspath('../Data/Location/')+'/Biogas_location.xlsx')\n",
    "CHP_info = pd.read_excel(os.path.abspath('../Data/Location/')+'/CHP_location.xlsx')\n",
    "Facilities_info = pd.read_excel(os.path.abspath('../Data/Location/')+'/Facilities.xlsx')\n",
    "Canton_loc = Canton_info.loc[:, :'longitude']\n",
    "Inc_loc = Inc_info.loc[:, :'longitude']\n",
    "Biogas_loc = Biogas_info.loc[:, :'longitude']\n",
    "CHP_loc = CHP_info.loc[:, :'longitude']"
   ]
  },
  {
   "cell_type": "code",
   "execution_count": 27,
   "metadata": {},
   "outputs": [],
   "source": [
    "N_Inc = Inc_info.shape[0]\n",
    "N_Biogas = Biogas_info.shape[0]\n",
    "N_CHP = CHP_info.shape[0]"
   ]
  },
  {
   "cell_type": "code",
   "execution_count": 28,
   "metadata": {},
   "outputs": [
    {
     "data": {
      "application/vnd.plotly.v1+json": {
       "config": {
        "plotlyServerURL": "https://plot.ly"
       },
       "data": [
        {
         "hovertemplate": "Facilities=inc<br>Power [kw]=%{marker.size}<br>latitude=%{lat}<br>longitude=%{lon}<extra></extra>",
         "lat": [
          47.388662,
          47.302664,
          47.485716,
          46.951692,
          47.120994,
          46.7616,
          47.572985,
          46.773187,
          46.194772,
          47.136022,
          46.91621,
          47.113336,
          46.97205,
          47.107809,
          47.423116,
          47.175779,
          47.415048,
          47.214968,
          47.556942,
          46.172376,
          46.533863,
          46.301944,
          46.241219,
          46.27811,
          47.416588,
          47.307734,
          47.248629,
          47.414223,
          47.386712,
          47.497527
         ],
         "legendgroup": "inc",
         "lon": [
          8.102833,
          7.92391,
          8.269243,
          7.414292,
          7.257832,
          7.606357,
          7.569535,
          7.120479,
          6.031147,
          9.040306,
          9.556382,
          8.375287,
          6.848581,
          6.834962,
          9.067832,
          9.483523,
          9.331536,
          7.570577,
          9.129003,
          8.990182,
          6.645152,
          7.94077,
          7.418154,
          6.961235,
          8.40307,
          8.820151,
          8.609161,
          8.564962,
          8.522089,
          8.751749
         ],
         "marker": {
          "color": "#636efa",
          "size": [
           16954.473417889396,
           8515.768859053243,
           15137.252663622528,
           24198.47792998478,
           4968.670725520041,
           16624.920470636487,
           66595.7533822906,
           13710.02637366672,
           38235.33739218671,
           8205.339928970065,
           14234.093084728564,
           28912.532217148655,
           6322.86910197869,
           10585.755961440893,
           10256.120698580864,
           36128.08954845257,
           11771.752917300864,
           28477.219685438864,
           30362.696600710304,
           16101.467275494673,
           42362.27257737189,
           8412.560477476303,
           4696.685364830865,
           22443.2966768138,
           10377.104713451294,
           19207.09066590563,
           7704.687861491629,
           65186.909436834096,
           16338.970631659056,
           29115.602516489096
          ],
          "sizemode": "area",
          "sizeref": 166.48938345572648
         },
         "mode": "markers",
         "name": "inc",
         "showlegend": true,
         "subplot": "mapbox",
         "type": "scattermapbox"
        },
        {
         "hovertemplate": "Facilities=biogas<br>Power [kw]=%{marker.size}<br>latitude=%{lat}<br>longitude=%{lon}<extra></extra>",
         "lat": [
          47.163582,
          47.021913,
          46.840145,
          47.063531,
          47.451172,
          47.598132,
          47.426649,
          47.607843,
          47.063698,
          47.230071,
          46.878186,
          46.985736,
          47.564052,
          47.293919,
          47.254947,
          47.460592,
          47.462885,
          47.421209,
          47.195012,
          47.149223,
          46.011507,
          47.483904,
          47.511252,
          46.860504,
          47.4133,
          47.54133,
          46.808827,
          46.301969,
          46.903609,
          46.886223,
          46.734567,
          47.142555,
          47.395584,
          46.743769,
          46.737445,
          46.892541,
          46.774007,
          47.458219,
          46.578962,
          46.747939,
          46.836475,
          46.910711,
          46.155984,
          47.150841,
          47.113497,
          47.385571,
          47.390828,
          47.627461,
          47.751368,
          46.797565,
          47.447011,
          46.493282,
          47.743837,
          47.080727,
          47.163466,
          47.210283,
          46.206872,
          47.142113,
          47.408022,
          46.799428,
          47.073495,
          47.368587,
          47.182225,
          47.014262,
          47.50596,
          47.143172,
          47.271328,
          46.976157,
          47.401849,
          47.594923,
          47.184992,
          47.440963,
          46.597158,
          46.554491,
          46.730096,
          46.917923,
          47.392376,
          46.705192,
          47.169903,
          47.214798,
          47.690271,
          47.211595,
          46.688973,
          47.565349,
          46.162917,
          46.547428,
          46.953961,
          47.012952,
          46.960507,
          47.453638,
          46.489283,
          47.292894,
          47.604521,
          47.116939,
          47.058025,
          46.730241,
          47.293718,
          47.058396,
          47.220094,
          46.373982,
          47.441554,
          47.397078,
          47.396885,
          47.337198,
          46.913562,
          47.155707,
          47.24858,
          47.23299,
          46.587081,
          46.711281,
          47.183335,
          46.975821,
          46.627155,
          47.052419,
          47.115848,
          46.99655,
          47.469418,
          46.723648,
          47.10209,
          47.221366,
          47.098183,
          47.009136,
          47.098191,
          47.200811,
          47.296289
         ],
         "legendgroup": "biogas",
         "lon": [
          7.785924,
          7.37337,
          7.303163,
          8.22104,
          7.010273,
          9.17957,
          8.606632,
          9.066857,
          7.334062,
          8.233986,
          7.248497,
          7.47294,
          9.017921,
          8.422054,
          7.996497,
          9.419166,
          7.646829,
          9.04736,
          8.30534,
          7.703005,
          7.739088,
          8.96291,
          9.388728,
          7.189808,
          8.983406,
          8.066679,
          6.5519,
          7.843882,
          6.59646,
          9.540428,
          9.426559,
          8.24831,
          7.433986,
          7.168377,
          6.883279,
          7.413958,
          6.536772,
          8.0573,
          6.509463,
          6.475097,
          7.749953,
          7.932788,
          8.935454,
          8.024195,
          8.728796,
          7.273808,
          8.725237,
          8.643724,
          8.693224,
          7.048921,
          8.423389,
          6.786911,
          8.705194,
          8.097278,
          8.409648,
          7.973161,
          6.06037,
          7.537576,
          7.051618,
          9.848451,
          8.146043,
          8.316411,
          8.436143,
          8.626655,
          8.974499,
          7.550367,
          8.406771,
          7.135647,
          8.320852,
          8.233753,
          8.8759,
          8.669859,
          9.961048,
          6.835921,
          6.868689,
          7.841386,
          6.99956,
          10.089199,
          8.087965,
          7.97848,
          8.59778,
          8.511366,
          7.648656,
          7.829369,
          8.971953,
          7.079673,
          7.89381,
          8.07535,
          7.130262,
          8.965472,
          6.767287,
          7.741019,
          8.913914,
          8.347674,
          6.913986,
          6.8686,
          8.422047,
          8.234894,
          8.156901,
          6.927662,
          8.431819,
          8.456763,
          8.292085,
          7.987862,
          8.263143,
          8.092769,
          8.832707,
          7.792535,
          6.675573,
          6.550706,
          8.027539,
          8.752298,
          7.69453,
          7.287347,
          7.15457,
          7.536994,
          7.866194,
          7.007562,
          7.358881,
          8.651236,
          8.442489,
          7.488196,
          8.442497,
          8.155362,
          8.340074
         ],
         "marker": {
          "color": "#EF553B",
          "size": [
           300,
           130,
           60,
           105,
           700,
           138,
           60,
           110,
           110,
           260,
           410,
           750,
           755,
           64,
           75,
           90,
           56,
           250,
           200,
           56,
           150,
           75,
           30,
           740,
           50,
           320,
           95,
           480,
           270,
           250,
           243,
           90,
           330,
           680,
           230,
           280,
           235,
           370,
           540,
           598,
           455,
           280,
           499,
           45,
           143,
           230,
           75,
           250,
           265,
           615,
           488,
           280,
           200,
           37,
           425,
           650,
           440,
           330,
           500,
           80,
           37,
           235,
           298,
           526,
           156,
           331,
           360,
           220,
           250,
           625,
           640,
           500,
           75,
           150,
           797,
           60,
           572,
           70,
           205,
           195,
           1200,
           584,
           955,
           221,
           150,
           526,
           29.9,
           320,
           150,
           350,
           890,
           889,
           300,
           250,
           220,
           797,
           64,
           783,
           780,
           2170,
           200,
           182,
           2134,
           380,
           500,
           732,
           213,
           97,
           100,
           625,
           526,
           165,
           16,
           625,
           56,
           440,
           250,
           520,
           400,
           116,
           235,
           320,
           235,
           240,
           160
          ],
          "sizemode": "area",
          "sizeref": 166.48938345572648
         },
         "mode": "markers",
         "name": "biogas",
         "showlegend": true,
         "subplot": "mapbox",
         "type": "scattermapbox"
        },
        {
         "hovertemplate": "Facilities=CHP<br>Power [kw]=%{marker.size}<br>latitude=%{lat}<br>longitude=%{lon}<extra></extra>",
         "lat": [
          46.762077,
          46.330852,
          47.458924,
          47.459476,
          47.189849,
          46.547821,
          46.825099,
          47.039906,
          47.487878,
          47.350529,
          47.080742,
          46.865431,
          47.438989,
          47.05012,
          46.459754,
          47.360714,
          47.219413,
          46.797589,
          47.181664,
          47.131917,
          47.45371,
          47.438424,
          47.43923,
          46.695153,
          46.85058,
          47.098648,
          46.840891,
          46.576186,
          45.844068,
          47.4382,
          46.997859,
          47.403629,
          46.078707,
          46.945642,
          47.471175,
          47.4338,
          47.373861,
          47.19497,
          47.199386,
          46.0096,
          46.305865,
          46.931626,
          47.400133,
          46.595986,
          46.623247,
          47.460447,
          47.57641,
          47.304028,
          47.361922,
          47.419602,
          47.528414,
          47.54753,
          47.572945,
          46.88028,
          47.464475,
          47.273026,
          47.42733,
          47.413017,
          47.087375,
          47.604496,
          46.227758,
          47.355191,
          47.384109,
          47.324776,
          46.612768,
          46.236208,
          46.81354,
          46.833286,
          46.836119,
          46.113409,
          46.844031,
          46.89194,
          47.01198,
          47.201305,
          46.833392,
          47.457814,
          47.109436,
          47.233864,
          46.774225,
          47.197479,
          47.412606,
          46.852305,
          46.766587,
          47.488395,
          47.287307,
          46.960479,
          46.858935,
          46.614906,
          47.082663,
          47.432794,
          47.045822,
          46.617171,
          47.139713,
          46.605404,
          47.477409,
          47.422464,
          46.619151,
          47.573857,
          47.309239,
          47.672342,
          47.142694,
          47.39457,
          47.443498,
          47.393874,
          46.742363,
          46.915046,
          47.756557,
          46.877317,
          46.940327,
          46.506592,
          47.55589,
          46.173714,
          47.107779,
          47.365661,
          46.186886,
          47.384927,
          47.414059,
          46.599226
         ],
         "legendgroup": "CHP",
         "lon": [
          7.60662,
          8.979193,
          8.4023,
          8.407243,
          8.679902,
          6.571334,
          9.435113,
          8.220236,
          7.733204,
          8.693238,
          8.097297,
          7.626116,
          8.703252,
          7.539953,
          9.794932,
          9.260282,
          9.20399,
          7.05035,
          8.43347,
          8.343347,
          8.941157,
          9.239817,
          7.00147,
          6.699237,
          7.097706,
          7.566757,
          6.824658,
          7.38385,
          9.038132,
          8.563614,
          6.730559,
          8.065464,
          7.214418,
          7.763076,
          9.207424,
          8.469267,
          9.403332,
          8.305271,
          8.40058,
          8.916992,
          7.650311,
          7.757463,
          8.481161,
          6.589197,
          7.157416,
          8.966616,
          7.839411,
          8.748576,
          8.422694,
          7.093374,
          8.919828,
          7.981212,
          7.568386,
          7.134998,
          9.395562,
          8.722412,
          7.409254,
          9.449299,
          8.412267,
          8.670636,
          7.366359,
          7.954942,
          8.012062,
          7.832828,
          6.814709,
          7.389345,
          7.16542,
          9.300855,
          6.6018,
          7.491367,
          7.502427,
          7.17557,
          7.028514,
          7.696708,
          6.93557,
          8.274286,
          8.08317,
          7.841785,
          9.211486,
          8.524935,
          8.574059,
          7.186621,
          6.670409,
          7.063827,
          8.574527,
          7.169557,
          7.427068,
          7.670719,
          7.615074,
          7.162401,
          9.420573,
          9.581233,
          7.324522,
          7.093906,
          7.085171,
          7.90314,
          7.56948,
          9.24646,
          8.811065,
          8.810255,
          8.75184,
          8.474628,
          8.526985,
          8.58729,
          7.552478,
          7.521558,
          8.494879,
          7.180679,
          7.807554,
          6.412974,
          8.875242,
          8.990992,
          7.538137,
          8.7695,
          6.062177,
          8.177073,
          8.155931,
          7.910133
         ],
         "marker": {
          "color": "#00cc96",
          "size": [
           80,
           69,
           330,
           2650,
           248,
           550,
           21000,
           836.9,
           250,
           140,
           168,
           60,
           80,
           190,
           80,
           1065,
           710,
           615,
           440,
           548,
           610,
           1000,
           700,
           4000,
           116,
           26,
           330,
           37,
           120,
           625,
           5.1,
           380,
           112,
           400,
           80,
           122,
           25,
           237,
           37,
           527,
           24,
           11,
           850,
           237,
           770,
           100,
           80,
           45,
           100,
           1400,
           230,
           8154,
           8850,
           5.4,
           710,
           549,
           490,
           710,
           7880,
           25,
           44,
           180,
           112,
           104,
           45,
           120,
           670,
           47,
           289.9,
           17,
           60,
           5.4,
           96,
           160,
           48,
           710,
           1400,
           1,
           350,
           1,
           11000,
           103,
           150,
           220,
           65,
           150,
           5.4,
           14,
           18,
           732,
           20,
           49,
           60,
           108,
           230,
           130,
           16,
           50,
           60,
           55,
           80,
           20,
           5.5,
           25,
           24,
           16,
           18,
           30,
           50,
           195,
           9520,
           180,
           120,
           80,
           171,
           70.2,
           2290,
           100
          ],
          "sizemode": "area",
          "sizeref": 166.48938345572648
         },
         "mode": "markers",
         "name": "CHP",
         "showlegend": true,
         "subplot": "mapbox",
         "type": "scattermapbox"
        }
       ],
       "layout": {
        "legend": {
         "itemsizing": "constant",
         "title": {
          "text": "Facilities"
         },
         "tracegroupgap": 0
        },
        "mapbox": {
         "accesstoken": "pk.eyJ1Ijoib2NlYW5jaGVuIiwiYSI6ImNrdmdqeHJxNDAwZm0yb24wODJzNDgwYnUifQ.2hpAKEVtbU9FtM7tQs_bDQ",
         "center": {
          "lat": 47.072563424908424,
          "lon": 8.00766995970696
         },
         "domain": {
          "x": [
           0,
           1
          ],
          "y": [
           0,
           1
          ]
         },
         "zoom": 8
        },
        "margin": {
         "t": 60
        },
        "template": {
         "data": {
          "bar": [
           {
            "error_x": {
             "color": "#2a3f5f"
            },
            "error_y": {
             "color": "#2a3f5f"
            },
            "marker": {
             "line": {
              "color": "#E5ECF6",
              "width": 0.5
             },
             "pattern": {
              "fillmode": "overlay",
              "size": 10,
              "solidity": 0.2
             }
            },
            "type": "bar"
           }
          ],
          "barpolar": [
           {
            "marker": {
             "line": {
              "color": "#E5ECF6",
              "width": 0.5
             },
             "pattern": {
              "fillmode": "overlay",
              "size": 10,
              "solidity": 0.2
             }
            },
            "type": "barpolar"
           }
          ],
          "carpet": [
           {
            "aaxis": {
             "endlinecolor": "#2a3f5f",
             "gridcolor": "white",
             "linecolor": "white",
             "minorgridcolor": "white",
             "startlinecolor": "#2a3f5f"
            },
            "baxis": {
             "endlinecolor": "#2a3f5f",
             "gridcolor": "white",
             "linecolor": "white",
             "minorgridcolor": "white",
             "startlinecolor": "#2a3f5f"
            },
            "type": "carpet"
           }
          ],
          "choropleth": [
           {
            "colorbar": {
             "outlinewidth": 0,
             "ticks": ""
            },
            "type": "choropleth"
           }
          ],
          "contour": [
           {
            "colorbar": {
             "outlinewidth": 0,
             "ticks": ""
            },
            "colorscale": [
             [
              0,
              "#0d0887"
             ],
             [
              0.1111111111111111,
              "#46039f"
             ],
             [
              0.2222222222222222,
              "#7201a8"
             ],
             [
              0.3333333333333333,
              "#9c179e"
             ],
             [
              0.4444444444444444,
              "#bd3786"
             ],
             [
              0.5555555555555556,
              "#d8576b"
             ],
             [
              0.6666666666666666,
              "#ed7953"
             ],
             [
              0.7777777777777778,
              "#fb9f3a"
             ],
             [
              0.8888888888888888,
              "#fdca26"
             ],
             [
              1,
              "#f0f921"
             ]
            ],
            "type": "contour"
           }
          ],
          "contourcarpet": [
           {
            "colorbar": {
             "outlinewidth": 0,
             "ticks": ""
            },
            "type": "contourcarpet"
           }
          ],
          "heatmap": [
           {
            "colorbar": {
             "outlinewidth": 0,
             "ticks": ""
            },
            "colorscale": [
             [
              0,
              "#0d0887"
             ],
             [
              0.1111111111111111,
              "#46039f"
             ],
             [
              0.2222222222222222,
              "#7201a8"
             ],
             [
              0.3333333333333333,
              "#9c179e"
             ],
             [
              0.4444444444444444,
              "#bd3786"
             ],
             [
              0.5555555555555556,
              "#d8576b"
             ],
             [
              0.6666666666666666,
              "#ed7953"
             ],
             [
              0.7777777777777778,
              "#fb9f3a"
             ],
             [
              0.8888888888888888,
              "#fdca26"
             ],
             [
              1,
              "#f0f921"
             ]
            ],
            "type": "heatmap"
           }
          ],
          "heatmapgl": [
           {
            "colorbar": {
             "outlinewidth": 0,
             "ticks": ""
            },
            "colorscale": [
             [
              0,
              "#0d0887"
             ],
             [
              0.1111111111111111,
              "#46039f"
             ],
             [
              0.2222222222222222,
              "#7201a8"
             ],
             [
              0.3333333333333333,
              "#9c179e"
             ],
             [
              0.4444444444444444,
              "#bd3786"
             ],
             [
              0.5555555555555556,
              "#d8576b"
             ],
             [
              0.6666666666666666,
              "#ed7953"
             ],
             [
              0.7777777777777778,
              "#fb9f3a"
             ],
             [
              0.8888888888888888,
              "#fdca26"
             ],
             [
              1,
              "#f0f921"
             ]
            ],
            "type": "heatmapgl"
           }
          ],
          "histogram": [
           {
            "marker": {
             "pattern": {
              "fillmode": "overlay",
              "size": 10,
              "solidity": 0.2
             }
            },
            "type": "histogram"
           }
          ],
          "histogram2d": [
           {
            "colorbar": {
             "outlinewidth": 0,
             "ticks": ""
            },
            "colorscale": [
             [
              0,
              "#0d0887"
             ],
             [
              0.1111111111111111,
              "#46039f"
             ],
             [
              0.2222222222222222,
              "#7201a8"
             ],
             [
              0.3333333333333333,
              "#9c179e"
             ],
             [
              0.4444444444444444,
              "#bd3786"
             ],
             [
              0.5555555555555556,
              "#d8576b"
             ],
             [
              0.6666666666666666,
              "#ed7953"
             ],
             [
              0.7777777777777778,
              "#fb9f3a"
             ],
             [
              0.8888888888888888,
              "#fdca26"
             ],
             [
              1,
              "#f0f921"
             ]
            ],
            "type": "histogram2d"
           }
          ],
          "histogram2dcontour": [
           {
            "colorbar": {
             "outlinewidth": 0,
             "ticks": ""
            },
            "colorscale": [
             [
              0,
              "#0d0887"
             ],
             [
              0.1111111111111111,
              "#46039f"
             ],
             [
              0.2222222222222222,
              "#7201a8"
             ],
             [
              0.3333333333333333,
              "#9c179e"
             ],
             [
              0.4444444444444444,
              "#bd3786"
             ],
             [
              0.5555555555555556,
              "#d8576b"
             ],
             [
              0.6666666666666666,
              "#ed7953"
             ],
             [
              0.7777777777777778,
              "#fb9f3a"
             ],
             [
              0.8888888888888888,
              "#fdca26"
             ],
             [
              1,
              "#f0f921"
             ]
            ],
            "type": "histogram2dcontour"
           }
          ],
          "mesh3d": [
           {
            "colorbar": {
             "outlinewidth": 0,
             "ticks": ""
            },
            "type": "mesh3d"
           }
          ],
          "parcoords": [
           {
            "line": {
             "colorbar": {
              "outlinewidth": 0,
              "ticks": ""
             }
            },
            "type": "parcoords"
           }
          ],
          "pie": [
           {
            "automargin": true,
            "type": "pie"
           }
          ],
          "scatter": [
           {
            "marker": {
             "colorbar": {
              "outlinewidth": 0,
              "ticks": ""
             }
            },
            "type": "scatter"
           }
          ],
          "scatter3d": [
           {
            "line": {
             "colorbar": {
              "outlinewidth": 0,
              "ticks": ""
             }
            },
            "marker": {
             "colorbar": {
              "outlinewidth": 0,
              "ticks": ""
             }
            },
            "type": "scatter3d"
           }
          ],
          "scattercarpet": [
           {
            "marker": {
             "colorbar": {
              "outlinewidth": 0,
              "ticks": ""
             }
            },
            "type": "scattercarpet"
           }
          ],
          "scattergeo": [
           {
            "marker": {
             "colorbar": {
              "outlinewidth": 0,
              "ticks": ""
             }
            },
            "type": "scattergeo"
           }
          ],
          "scattergl": [
           {
            "marker": {
             "colorbar": {
              "outlinewidth": 0,
              "ticks": ""
             }
            },
            "type": "scattergl"
           }
          ],
          "scattermapbox": [
           {
            "marker": {
             "colorbar": {
              "outlinewidth": 0,
              "ticks": ""
             }
            },
            "type": "scattermapbox"
           }
          ],
          "scatterpolar": [
           {
            "marker": {
             "colorbar": {
              "outlinewidth": 0,
              "ticks": ""
             }
            },
            "type": "scatterpolar"
           }
          ],
          "scatterpolargl": [
           {
            "marker": {
             "colorbar": {
              "outlinewidth": 0,
              "ticks": ""
             }
            },
            "type": "scatterpolargl"
           }
          ],
          "scatterternary": [
           {
            "marker": {
             "colorbar": {
              "outlinewidth": 0,
              "ticks": ""
             }
            },
            "type": "scatterternary"
           }
          ],
          "surface": [
           {
            "colorbar": {
             "outlinewidth": 0,
             "ticks": ""
            },
            "colorscale": [
             [
              0,
              "#0d0887"
             ],
             [
              0.1111111111111111,
              "#46039f"
             ],
             [
              0.2222222222222222,
              "#7201a8"
             ],
             [
              0.3333333333333333,
              "#9c179e"
             ],
             [
              0.4444444444444444,
              "#bd3786"
             ],
             [
              0.5555555555555556,
              "#d8576b"
             ],
             [
              0.6666666666666666,
              "#ed7953"
             ],
             [
              0.7777777777777778,
              "#fb9f3a"
             ],
             [
              0.8888888888888888,
              "#fdca26"
             ],
             [
              1,
              "#f0f921"
             ]
            ],
            "type": "surface"
           }
          ],
          "table": [
           {
            "cells": {
             "fill": {
              "color": "#EBF0F8"
             },
             "line": {
              "color": "white"
             }
            },
            "header": {
             "fill": {
              "color": "#C8D4E3"
             },
             "line": {
              "color": "white"
             }
            },
            "type": "table"
           }
          ]
         },
         "layout": {
          "annotationdefaults": {
           "arrowcolor": "#2a3f5f",
           "arrowhead": 0,
           "arrowwidth": 1
          },
          "autotypenumbers": "strict",
          "coloraxis": {
           "colorbar": {
            "outlinewidth": 0,
            "ticks": ""
           }
          },
          "colorscale": {
           "diverging": [
            [
             0,
             "#8e0152"
            ],
            [
             0.1,
             "#c51b7d"
            ],
            [
             0.2,
             "#de77ae"
            ],
            [
             0.3,
             "#f1b6da"
            ],
            [
             0.4,
             "#fde0ef"
            ],
            [
             0.5,
             "#f7f7f7"
            ],
            [
             0.6,
             "#e6f5d0"
            ],
            [
             0.7,
             "#b8e186"
            ],
            [
             0.8,
             "#7fbc41"
            ],
            [
             0.9,
             "#4d9221"
            ],
            [
             1,
             "#276419"
            ]
           ],
           "sequential": [
            [
             0,
             "#0d0887"
            ],
            [
             0.1111111111111111,
             "#46039f"
            ],
            [
             0.2222222222222222,
             "#7201a8"
            ],
            [
             0.3333333333333333,
             "#9c179e"
            ],
            [
             0.4444444444444444,
             "#bd3786"
            ],
            [
             0.5555555555555556,
             "#d8576b"
            ],
            [
             0.6666666666666666,
             "#ed7953"
            ],
            [
             0.7777777777777778,
             "#fb9f3a"
            ],
            [
             0.8888888888888888,
             "#fdca26"
            ],
            [
             1,
             "#f0f921"
            ]
           ],
           "sequentialminus": [
            [
             0,
             "#0d0887"
            ],
            [
             0.1111111111111111,
             "#46039f"
            ],
            [
             0.2222222222222222,
             "#7201a8"
            ],
            [
             0.3333333333333333,
             "#9c179e"
            ],
            [
             0.4444444444444444,
             "#bd3786"
            ],
            [
             0.5555555555555556,
             "#d8576b"
            ],
            [
             0.6666666666666666,
             "#ed7953"
            ],
            [
             0.7777777777777778,
             "#fb9f3a"
            ],
            [
             0.8888888888888888,
             "#fdca26"
            ],
            [
             1,
             "#f0f921"
            ]
           ]
          },
          "colorway": [
           "#636efa",
           "#EF553B",
           "#00cc96",
           "#ab63fa",
           "#FFA15A",
           "#19d3f3",
           "#FF6692",
           "#B6E880",
           "#FF97FF",
           "#FECB52"
          ],
          "font": {
           "color": "#2a3f5f"
          },
          "geo": {
           "bgcolor": "white",
           "lakecolor": "white",
           "landcolor": "#E5ECF6",
           "showlakes": true,
           "showland": true,
           "subunitcolor": "white"
          },
          "hoverlabel": {
           "align": "left"
          },
          "hovermode": "closest",
          "mapbox": {
           "style": "light"
          },
          "paper_bgcolor": "white",
          "plot_bgcolor": "#E5ECF6",
          "polar": {
           "angularaxis": {
            "gridcolor": "white",
            "linecolor": "white",
            "ticks": ""
           },
           "bgcolor": "#E5ECF6",
           "radialaxis": {
            "gridcolor": "white",
            "linecolor": "white",
            "ticks": ""
           }
          },
          "scene": {
           "xaxis": {
            "backgroundcolor": "#E5ECF6",
            "gridcolor": "white",
            "gridwidth": 2,
            "linecolor": "white",
            "showbackground": true,
            "ticks": "",
            "zerolinecolor": "white"
           },
           "yaxis": {
            "backgroundcolor": "#E5ECF6",
            "gridcolor": "white",
            "gridwidth": 2,
            "linecolor": "white",
            "showbackground": true,
            "ticks": "",
            "zerolinecolor": "white"
           },
           "zaxis": {
            "backgroundcolor": "#E5ECF6",
            "gridcolor": "white",
            "gridwidth": 2,
            "linecolor": "white",
            "showbackground": true,
            "ticks": "",
            "zerolinecolor": "white"
           }
          },
          "shapedefaults": {
           "line": {
            "color": "#2a3f5f"
           }
          },
          "ternary": {
           "aaxis": {
            "gridcolor": "white",
            "linecolor": "white",
            "ticks": ""
           },
           "baxis": {
            "gridcolor": "white",
            "linecolor": "white",
            "ticks": ""
           },
           "bgcolor": "#E5ECF6",
           "caxis": {
            "gridcolor": "white",
            "linecolor": "white",
            "ticks": ""
           }
          },
          "title": {
           "x": 0.05
          },
          "xaxis": {
           "automargin": true,
           "gridcolor": "white",
           "linecolor": "white",
           "ticks": "",
           "title": {
            "standoff": 15
           },
           "zerolinecolor": "white",
           "zerolinewidth": 2
          },
          "yaxis": {
           "automargin": true,
           "gridcolor": "white",
           "linecolor": "white",
           "ticks": "",
           "title": {
            "standoff": 15
           },
           "zerolinecolor": "white",
           "zerolinewidth": 2
          }
         }
        }
       }
      }
     },
     "metadata": {},
     "output_type": "display_data"
    }
   ],
   "source": [
    "px.set_mapbox_access_token(open(\".mapbox_token\").read())\n",
    "fig = px.scatter_mapbox(Facilities_info, lat=\"latitude\", lon=\"longitude\", size = 'Power [kw]', color = 'Facilities')\n",
    "fig.show()"
   ]
  },
  {
   "cell_type": "code",
   "execution_count": null,
   "metadata": {},
   "outputs": [],
   "source": []
  }
 ],
 "metadata": {
  "interpreter": {
   "hash": "100bb94525283ee843b9a9fadd409eea721a306d83ceda4815adc997b54dfa7d"
  },
  "kernelspec": {
   "display_name": "Python 3.8.12 64-bit ('bsc': conda)",
   "name": "python3"
  },
  "language_info": {
   "codemirror_mode": {
    "name": "ipython",
    "version": 3
   },
   "file_extension": ".py",
   "mimetype": "text/x-python",
   "name": "python",
   "nbconvert_exporter": "python",
   "pygments_lexer": "ipython3",
   "version": "3.8.12"
  },
  "orig_nbformat": 4
 },
 "nbformat": 4,
 "nbformat_minor": 2
}
